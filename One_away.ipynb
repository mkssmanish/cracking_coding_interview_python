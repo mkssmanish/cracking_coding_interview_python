{
  "nbformat": 4,
  "nbformat_minor": 0,
  "metadata": {
    "colab": {
      "name": "One away.ipynb",
      "provenance": [],
      "collapsed_sections": [],
      "authorship_tag": "ABX9TyOhUIx3fvkUrkgKSGRTBvKy",
      "include_colab_link": true
    },
    "kernelspec": {
      "name": "python3",
      "display_name": "Python 3"
    }
  },
  "cells": [
    {
      "cell_type": "markdown",
      "metadata": {
        "id": "view-in-github",
        "colab_type": "text"
      },
      "source": [
        "<a href=\"https://colab.research.google.com/github/mkssmanish/cracking_coding_interview_python/blob/master/One_away.ipynb\" target=\"_parent\"><img src=\"https://colab.research.google.com/assets/colab-badge.svg\" alt=\"Open In Colab\"/></a>"
      ]
    },
    {
      "cell_type": "code",
      "metadata": {
        "id": "FwC9iGrRj364",
        "colab_type": "code",
        "colab": {}
      },
      "source": [
        "### There are three types of edits that can be performed on string\n",
        "### insert, remove, replace\n",
        "### Given 2 strings , write a fun() to check if they are one edit (or zero edits) away"
      ],
      "execution_count": null,
      "outputs": []
    },
    {
      "cell_type": "code",
      "metadata": {
        "id": "An_cRUyolJYA",
        "colab_type": "code",
        "colab": {}
      },
      "source": [
        ""
      ],
      "execution_count": null,
      "outputs": []
    },
    {
      "cell_type": "code",
      "metadata": {
        "id": "hsnxVjOolJn-",
        "colab_type": "code",
        "colab": {}
      },
      "source": [
        "# def one_away(s1, s2):\n",
        "#     diff1 = [el for el in s1 if el not in s2]\n",
        "#     diff2 = [el for el in s2 if el not in s1]\n",
        "#     if len(diff1) < 2 and len(diff2) < 2:\n",
        "#         return True\n",
        "#     return False\n",
        "\n",
        "\n",
        "# s1 = \"manish\"\n",
        "# s2 = \"nisham\"\n",
        "# print(one_away(s1,s2))\n",
        "\n",
        "### Do not work for this example"
      ],
      "execution_count": 13,
      "outputs": []
    },
    {
      "cell_type": "code",
      "metadata": {
        "id": "OuzVtHHzmKsl",
        "colab_type": "code",
        "colab": {}
      },
      "source": [
        "def is_one_away(first: str, other: str):\n",
        "  \n",
        "    if len(first) < len(other):\n",
        "        first, other = other, first\n",
        "\n",
        "    if len(first) - len(other) > 1:\n",
        "        return False\n",
        "\n",
        "    elif len(first) - len(other) == 1:\n",
        "        for pos in range(len(first)):\n",
        "            if first[:pos] + first[pos+1:] == other:\n",
        "                return True\n",
        "        return False\n",
        "\n",
        "    else:\n",
        "        num_different_chars = sum(1 for pos in range(len(first)) if first[pos] != other[pos])\n",
        "        return num_different_chars < 2"
      ],
      "execution_count": 25,
      "outputs": []
    },
    {
      "cell_type": "code",
      "metadata": {
        "id": "B51cVUPsp8r-",
        "colab_type": "code",
        "colab": {
          "base_uri": "https://localhost:8080/",
          "height": 85
        },
        "outputId": "d535ff91-a8a2-4b47-d1b3-db2f5fdc213d"
      },
      "source": [
        "print(is_one_away('pale', 'ale'))\n",
        "print(is_one_away('pales', 'pale'))\n",
        "print(is_one_away('pale', 'bale'))\n",
        "print(is_one_away('pale', 'bake'))\n"
      ],
      "execution_count": 26,
      "outputs": [
        {
          "output_type": "stream",
          "text": [
            "True\n",
            "True\n",
            "True\n",
            "False\n"
          ],
          "name": "stdout"
        }
      ]
    }
  ]
}