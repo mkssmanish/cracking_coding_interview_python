{
  "nbformat": 4,
  "nbformat_minor": 0,
  "metadata": {
    "colab": {
      "name": "Qn1 is unique.ipynb",
      "provenance": [],
      "collapsed_sections": [],
      "authorship_tag": "ABX9TyN5ZDDv7v8OMrucSd6Q9HWt",
      "include_colab_link": true
    },
    "kernelspec": {
      "name": "python3",
      "display_name": "Python 3"
    }
  },
  "cells": [
    {
      "cell_type": "markdown",
      "metadata": {
        "id": "view-in-github",
        "colab_type": "text"
      },
      "source": [
        "<a href=\"https://colab.research.google.com/github/mkssmanish/cracking_coding_interview_python/blob/master/Qn1_is_unique.ipynb\" target=\"_parent\"><img src=\"https://colab.research.google.com/assets/colab-badge.svg\" alt=\"Open In Colab\"/></a>"
      ]
    },
    {
      "cell_type": "code",
      "metadata": {
        "id": "nVwFDVOjtHft",
        "colab_type": "code",
        "colab": {}
      },
      "source": [
        "### Implement an algorithm to determine if a string has all unique charecters. \n",
        "### What if you can not use additional data strucrure "
      ],
      "execution_count": null,
      "outputs": []
    },
    {
      "cell_type": "code",
      "metadata": {
        "id": "r3j9_Gpht6AX",
        "colab_type": "code",
        "colab": {}
      },
      "source": [
        "### Without using any data structure \n",
        "def isUniqe (string):\n",
        "  a = {}\n",
        "  for char in string:\n",
        "    if char in a :\n",
        "      return False\n",
        "    else:\n",
        "      a[char] =1\n",
        "  return True"
      ],
      "execution_count": 1,
      "outputs": []
    },
    {
      "cell_type": "code",
      "metadata": {
        "id": "gJSdK7JCuIpR",
        "colab_type": "code",
        "colab": {
          "base_uri": "https://localhost:8080/",
          "height": 102
        },
        "outputId": "1217289d-1e3b-45ae-b66e-5d280b239468"
      },
      "source": [
        "print (isUniqe('aaaaaa'))\n",
        "print (isUniqe('abcdefg'))\n",
        "print (isUniqe(''))\n",
        "print (isUniqe('abcdefghijklmnopqrstuvwxyzz'))\n",
        "print (isUniqe('abcdefghijklmnopqrstuvwxyz'))"
      ],
      "execution_count": 2,
      "outputs": [
        {
          "output_type": "stream",
          "text": [
            "False\n",
            "True\n",
            "True\n",
            "False\n",
            "True\n"
          ],
          "name": "stdout"
        }
      ]
    },
    {
      "cell_type": "code",
      "metadata": {
        "id": "ZVsfnUpauwkJ",
        "colab_type": "code",
        "colab": {}
      },
      "source": [
        ""
      ],
      "execution_count": null,
      "outputs": []
    },
    {
      "cell_type": "code",
      "metadata": {
        "id": "INJ2qASQuwnV",
        "colab_type": "code",
        "colab": {}
      },
      "source": [
        "### Using set\n",
        "def isUniqe_by_using_set(string):\n",
        "  set_string = set(string)\n",
        "  if len(set_string) == len(string):\n",
        "    return True\n",
        "  else:\n",
        "    return False "
      ],
      "execution_count": 3,
      "outputs": []
    },
    {
      "cell_type": "code",
      "metadata": {
        "id": "ULHR8qOqu5Kn",
        "colab_type": "code",
        "colab": {
          "base_uri": "https://localhost:8080/",
          "height": 102
        },
        "outputId": "beacd7f7-1b49-49f0-e610-f32f5db9c0d0"
      },
      "source": [
        "print (isUniqe_by_using_set('aaaaaa'))\n",
        "print (isUniqe_by_using_set('abcdefg'))\n",
        "print (isUniqe_by_using_set(''))\n",
        "print (isUniqe_by_using_set('abcdefghijklmnopqrstuvwxyzz'))\n",
        "print (isUniqe_by_using_set('abcdefghijklmnopqrstuvwxyz'))"
      ],
      "execution_count": 4,
      "outputs": [
        {
          "output_type": "stream",
          "text": [
            "False\n",
            "True\n",
            "True\n",
            "False\n",
            "True\n"
          ],
          "name": "stdout"
        }
      ]
    },
    {
      "cell_type": "code",
      "metadata": {
        "id": "__Rlzm4-vYCq",
        "colab_type": "code",
        "colab": {}
      },
      "source": [
        ""
      ],
      "execution_count": null,
      "outputs": []
    },
    {
      "cell_type": "code",
      "metadata": {
        "id": "lXkdenBBvYSt",
        "colab_type": "code",
        "colab": {}
      },
      "source": [
        "##### by using index()  and summation n(n+1)/2 method \n",
        "\n",
        "def unique_by_index_and_summation(string):\n",
        "  sum = 0\n",
        "  n = len(string)\n",
        "  for ele in string:\n",
        "    sum += string.index(ele) +1  ### since index start from 0, so adding 1 in all \n",
        "  sum2 = (n * (n+1) )/ 2\n",
        "  if sum == sum2 :\n",
        "    return True\n",
        "  else:\n",
        "    return False\n",
        "\n",
        "\n",
        "\n",
        "\n",
        "####  Note:\n",
        "\n",
        "###  summation of 1,2,3.....N =   n(n+1)/2\n",
        "### if you write (n*n+1) / 2  then will get wrong answer\n",
        "### for ex (3 *  3+1) / 2   expected value is  3*4/2 =  6  but \n",
        "### (3*3+1)/2  = 5.0\n",
        "### 3*3+1/2    = 9.5\n",
        "### 3*(3+1)/2  = 6.0\n"
      ],
      "execution_count": 30,
      "outputs": []
    },
    {
      "cell_type": "code",
      "metadata": {
        "id": "yWUDaTrc3wk4",
        "colab_type": "code",
        "colab": {
          "base_uri": "https://localhost:8080/",
          "height": 102
        },
        "outputId": "5d70a1b6-4a85-4984-8679-20b9ebaeffc2"
      },
      "source": [
        "print (unique_by_index_and_summation('aaaaaa'))\n",
        "print (unique_by_index_and_summation('abcdefg'))\n",
        "print (unique_by_index_and_summation(''))\n",
        "print (unique_by_index_and_summation('abcdefghijklmnopqrstuvwxyzz'))\n",
        "print (unique_by_index_and_summation('abcdefghijklmnopqrstuvwxyz'))"
      ],
      "execution_count": 31,
      "outputs": [
        {
          "output_type": "stream",
          "text": [
            "False\n",
            "True\n",
            "True\n",
            "False\n",
            "True\n"
          ],
          "name": "stdout"
        }
      ]
    }
  ]
}