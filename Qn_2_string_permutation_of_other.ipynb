{
  "nbformat": 4,
  "nbformat_minor": 0,
  "metadata": {
    "colab": {
      "name": "Qn 2 string permutation of other.ipynb",
      "provenance": [],
      "authorship_tag": "ABX9TyPpM+UYKdKDeKMSci3h9PpP",
      "include_colab_link": true
    },
    "kernelspec": {
      "name": "python3",
      "display_name": "Python 3"
    }
  },
  "cells": [
    {
      "cell_type": "markdown",
      "metadata": {
        "id": "view-in-github",
        "colab_type": "text"
      },
      "source": [
        "<a href=\"https://colab.research.google.com/github/mkssmanish/cracking_coding_interview_python/blob/master/Qn_2_string_permutation_of_other.ipynb\" target=\"_parent\"><img src=\"https://colab.research.google.com/assets/colab-badge.svg\" alt=\"Open In Colab\"/></a>"
      ]
    },
    {
      "cell_type": "code",
      "metadata": {
        "id": "JjTi11n3nTqX",
        "colab_type": "code",
        "colab": {}
      },
      "source": [
        "### check whether two \n",
        "### strings are Permutations of each other \n"
      ],
      "execution_count": null,
      "outputs": []
    },
    {
      "cell_type": "code",
      "metadata": {
        "id": "OmKPnBUGnZO-",
        "colab_type": "code",
        "colab": {}
      },
      "source": [
        "def arePermutation(str1, str2):\n",
        "  n1 = len(str1)\n",
        "  n2 = len(str2)\n",
        "  \n",
        "  # base condition , return false if length of two string is not same\n",
        "  if (n1 != n2):\n",
        "    return False\n",
        "  \n",
        "  a = sorted(str1)\n",
        "  str1 = \" \".join(a)\n",
        "  b = sorted(str2)\n",
        "  str2 = \" \".join(b)\n",
        "  if str1 == str2:\n",
        "    return True\n",
        "  else:\n",
        "    return False\n",
        " "
      ],
      "execution_count": 16,
      "outputs": []
    },
    {
      "cell_type": "code",
      "metadata": {
        "id": "Ru7KRlD6njTm",
        "colab_type": "code",
        "colab": {
          "base_uri": "https://localhost:8080/",
          "height": 51
        },
        "outputId": "5c9cd2ac-d977-4f28-f0f0-99558ee4a58a"
      },
      "source": [
        "str1 = \"test\"\n",
        "str2 = \"tset\"\n",
        "if (arePermutation(str1, str2)): \n",
        "  print(\"Yes\") \n",
        "else: \n",
        "  print(\"No\") \n",
        "\n",
        "\n",
        "str1 = \"monu\"\n",
        "str2 = \"sonu\"\n",
        "if (arePermutation(str1, str2)): \n",
        "  print(\"Yes\") \n",
        "else: \n",
        "  print(\"No\") "
      ],
      "execution_count": 21,
      "outputs": [
        {
          "output_type": "stream",
          "text": [
            "Yes\n",
            "No\n"
          ],
          "name": "stdout"
        }
      ]
    }
  ]
}