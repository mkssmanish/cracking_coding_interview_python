{
  "nbformat": 4,
  "nbformat_minor": 0,
  "metadata": {
    "colab": {
      "name": "String Rotation.ipynb",
      "provenance": [],
      "collapsed_sections": [],
      "authorship_tag": "ABX9TyPi+vXThkafiFEmUYdc4lnh",
      "include_colab_link": true
    },
    "kernelspec": {
      "name": "python3",
      "display_name": "Python 3"
    }
  },
  "cells": [
    {
      "cell_type": "markdown",
      "metadata": {
        "id": "view-in-github",
        "colab_type": "text"
      },
      "source": [
        "<a href=\"https://colab.research.google.com/github/mkssmanish/cracking_coding_interview_python/blob/master/String_Rotation.ipynb\" target=\"_parent\"><img src=\"https://colab.research.google.com/assets/colab-badge.svg\" alt=\"Open In Colab\"/></a>"
      ]
    },
    {
      "cell_type": "code",
      "metadata": {
        "id": "cWCglyWbTS8T",
        "colab_type": "code",
        "colab": {}
      },
      "source": [
        "### String Rotation\n",
        "\n",
        "### Assume you have a method isSubstring which checks if one word is a substring of another\n",
        "\n",
        "### Given 2 string, s1 and s2, write the code to check if s2 is a rotation of s1 using only one \n",
        "### call to isSubstring\n",
        "\n",
        "### eg waterbottle is a rotation of erbottlewat"
      ],
      "execution_count": null,
      "outputs": []
    },
    {
      "cell_type": "code",
      "metadata": {
        "id": "bGTkCM2oUGQc",
        "colab_type": "code",
        "colab": {}
      },
      "source": [
        "### Note  check 4 condition\n",
        "### if length of both string is not same that means it cant be rotation of eacth other\n",
        "### if both string is same then True, if we consider 0 rotation also other wise leave this condtion\n",
        "### rotate by one alphabet of one string and comapare it to another till n times\n",
        "### if till n times which is length of string that means both string is not rotation of each othe"
      ],
      "execution_count": null,
      "outputs": []
    },
    {
      "cell_type": "code",
      "metadata": {
        "id": "pjOA0dNOUGTu",
        "colab_type": "code",
        "colab": {}
      },
      "source": [
        "def isSubstring(s1,s2):\n",
        "\n",
        "  if len(s1) != len(s2):\n",
        "    return False\n",
        "  if s1 == s2 :\n",
        "    return True\n",
        "\n",
        "  n = len(s1)\n",
        "\n",
        "  for i in range(1,n):\n",
        "    s2Rotate = s2[i:n] + s2[0:i]\n",
        "    if s2Rotate == s1:\n",
        "      return True\n",
        "      \n",
        "  return False\n"
      ],
      "execution_count": 14,
      "outputs": []
    },
    {
      "cell_type": "code",
      "metadata": {
        "id": "5ot3-Gw8UoWt",
        "colab_type": "code",
        "colab": {
          "base_uri": "https://localhost:8080/",
          "height": 34
        },
        "outputId": "1eb84b43-62e5-4abc-c560-9323af7690d1"
      },
      "source": [
        "s1 = \"waterbottle\"\n",
        "s2 = \"erbottlewat\"\n",
        "### Ans is True   because   erbottle + wate --> erbottlewat    3 iteration\n",
        "\n",
        "s1 = \"manish\"\n",
        "s2 = \"rajnish\"\n",
        "### False   \n",
        "\n",
        "s1 = \"manish\"\n",
        "s2 = \"manihs\"\n",
        "### False\n",
        "### because  all charecter is same but manish --> anishm --> nishma\n",
        "### --> ishman --> shmani --> hamnis ---> Rotaion end\n",
        "\n",
        "isSubstring(s1,s2)"
      ],
      "execution_count": 17,
      "outputs": [
        {
          "output_type": "execute_result",
          "data": {
            "text/plain": [
              "False"
            ]
          },
          "metadata": {
            "tags": []
          },
          "execution_count": 17
        }
      ]
    }
  ]
}