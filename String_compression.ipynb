{
  "nbformat": 4,
  "nbformat_minor": 0,
  "metadata": {
    "colab": {
      "name": "String compression.ipynb",
      "provenance": [],
      "collapsed_sections": [],
      "authorship_tag": "ABX9TyOuvpoQe2kq7AWbSlw12A7A",
      "include_colab_link": true
    },
    "kernelspec": {
      "name": "python3",
      "display_name": "Python 3"
    }
  },
  "cells": [
    {
      "cell_type": "markdown",
      "metadata": {
        "id": "view-in-github",
        "colab_type": "text"
      },
      "source": [
        "<a href=\"https://colab.research.google.com/github/mkssmanish/cracking_coding_interview_python/blob/master/String_compression.ipynb\" target=\"_parent\"><img src=\"https://colab.research.google.com/assets/colab-badge.svg\" alt=\"Open In Colab\"/></a>"
      ]
    },
    {
      "cell_type": "code",
      "metadata": {
        "id": "qTO9lhVSr6pn",
        "colab_type": "code",
        "colab": {}
      },
      "source": [
        "### Implement a method to perform a basic string compression\n",
        "### using the counts of repeated char\n",
        "### aabcccccaaa --> a2b1c5a3\n",
        "### if compressed word is not lesser than original then return original\n",
        "### I guess, only if there is one char in word  !!!"
      ],
      "execution_count": null,
      "outputs": []
    },
    {
      "cell_type": "code",
      "metadata": {
        "id": "-QthRi16r7gt",
        "colab_type": "code",
        "colab": {}
      },
      "source": [
        ""
      ],
      "execution_count": null,
      "outputs": []
    },
    {
      "cell_type": "code",
      "metadata": {
        "id": "xM_XMsYfr7jJ",
        "colab_type": "code",
        "colab": {}
      },
      "source": [
        "def compress(string):\n",
        "\n",
        "    res = \"\"\n",
        "\n",
        "    count = 1\n",
        "\n",
        "    #Add in first character\n",
        "    res += string[0]\n",
        "\n",
        "    #Iterate through loop, skipping last one\n",
        "    for i in range(len(string)-1):\n",
        "        if(string[i] == string[i+1]):\n",
        "            count+=1\n",
        "        else:\n",
        "            if(count >= 1):        #Ignore if no repeats in that case count > 1\n",
        "                res += str(count)\n",
        "            res += string[i+1]\n",
        "            count = 1\n",
        "    #print last one\n",
        "    if(count > 1):\n",
        "        res += str(count)\n",
        "    return res"
      ],
      "execution_count": 7,
      "outputs": []
    },
    {
      "cell_type": "code",
      "metadata": {
        "id": "KaNVxqycr7mj",
        "colab_type": "code",
        "colab": {
          "base_uri": "https://localhost:8080/",
          "height": 68
        },
        "outputId": "6321bb38-062b-4f86-920d-521999c4478d"
      },
      "source": [
        "print(compress(\"aabcccccaaa\"))\n",
        "print(compress(\"a\"))   ### Compressed is not smaller than original hence returning original\n",
        "print(compress(\"abc\"))"
      ],
      "execution_count": 15,
      "outputs": [
        {
          "output_type": "stream",
          "text": [
            "a2b1c5a3\n",
            "a\n",
            "a1b1c\n"
          ],
          "name": "stdout"
        }
      ]
    }
  ]
}