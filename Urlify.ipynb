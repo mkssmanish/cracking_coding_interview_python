{
  "nbformat": 4,
  "nbformat_minor": 0,
  "metadata": {
    "colab": {
      "name": "Urlify.ipynb",
      "provenance": [],
      "authorship_tag": "ABX9TyM7Bk1KOHdXwmZQry5ncus7",
      "include_colab_link": true
    },
    "kernelspec": {
      "name": "python3",
      "display_name": "Python 3"
    }
  },
  "cells": [
    {
      "cell_type": "markdown",
      "metadata": {
        "id": "view-in-github",
        "colab_type": "text"
      },
      "source": [
        "<a href=\"https://colab.research.google.com/github/mkssmanish/cracking_coding_interview_python/blob/master/Urlify.ipynb\" target=\"_parent\"><img src=\"https://colab.research.google.com/assets/colab-badge.svg\" alt=\"Open In Colab\"/></a>"
      ]
    },
    {
      "cell_type": "code",
      "metadata": {
        "id": "EWYl6taofLqW",
        "colab_type": "code",
        "colab": {}
      },
      "source": [
        "###  Qn 3\n",
        "\n",
        "###Write a method to replace all the spaces in a string with ‘%20’. \n",
        "###You may assume that the string has sufficient space at the end\n",
        "###to hold the additional characters, and \n",
        "###that you are given the “true” length of the string."
      ],
      "execution_count": 6,
      "outputs": []
    },
    {
      "cell_type": "code",
      "metadata": {
        "id": "t1nchrWwfUxZ",
        "colab_type": "code",
        "colab": {}
      },
      "source": [
        "def urlify(string):\n",
        "  \n",
        "  # string = string.strip()\n",
        "  # string = string.replace(\" \", \"%20\")\n",
        "\n",
        "  #### the above two line code can be merge into one \n",
        "\n",
        "  string = string.strip().replace(\" \", \"%20\")\n",
        "  return string"
      ],
      "execution_count": 7,
      "outputs": []
    },
    {
      "cell_type": "code",
      "metadata": {
        "id": "H4eUi28NftF_",
        "colab_type": "code",
        "colab": {
          "base_uri": "https://localhost:8080/",
          "height": 34
        },
        "outputId": "732ab169-1c03-41c9-b21b-d4f18dc9729e"
      },
      "source": [
        "string = \"Mr John Smith \"\n",
        "print (urlify(string))"
      ],
      "execution_count": 8,
      "outputs": [
        {
          "output_type": "stream",
          "text": [
            "Mr%20John%20Smith\n"
          ],
          "name": "stdout"
        }
      ]
    }
  ]
}