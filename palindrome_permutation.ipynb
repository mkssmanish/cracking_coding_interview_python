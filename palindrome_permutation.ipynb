{
  "nbformat": 4,
  "nbformat_minor": 0,
  "metadata": {
    "colab": {
      "name": "palindrome permutation.ipynb",
      "provenance": [],
      "authorship_tag": "ABX9TyO0xEw+hlZA7Lay/brKL1CK",
      "include_colab_link": true
    },
    "kernelspec": {
      "name": "python3",
      "display_name": "Python 3"
    }
  },
  "cells": [
    {
      "cell_type": "markdown",
      "metadata": {
        "id": "view-in-github",
        "colab_type": "text"
      },
      "source": [
        "<a href=\"https://colab.research.google.com/github/mkssmanish/cracking_coding_interview_python/blob/master/palindrome_permutation.ipynb\" target=\"_parent\"><img src=\"https://colab.research.google.com/assets/colab-badge.svg\" alt=\"Open In Colab\"/></a>"
      ]
    },
    {
      "cell_type": "code",
      "metadata": {
        "id": "2HSYMtngZf-F",
        "colab_type": "code",
        "colab": {}
      },
      "source": [
        "### Given a string, write a function to check if it is permutation of a palindrome.\n",
        "### A palindrome is a word or phrase that is same forwards or backwards.\n",
        "### A permutation is rearrangement of letters. The Palindrome does not need to be limited\n",
        "### to just dictionary words "
      ],
      "execution_count": null,
      "outputs": []
    },
    {
      "cell_type": "code",
      "metadata": {
        "id": "YSDM3tihf_5_",
        "colab_type": "code",
        "colab": {}
      },
      "source": [
        ""
      ],
      "execution_count": null,
      "outputs": []
    },
    {
      "cell_type": "code",
      "metadata": {
        "id": "Hn1IBGHJf_9S",
        "colab_type": "code",
        "colab": {}
      },
      "source": [
        "### Assuming there is only alpha char\n",
        "### if any other char present...we r removing it\n",
        "### and taking it alpha char & then processing the fun()\n",
        "\n",
        "from collections import Counter \n",
        "def any_palindrome(myString):\n",
        "    alpha_chars_only = [x for x in myString.lower() if x.isalpha()]   ### list comprehension in python, to remove non alpha char\n",
        "    #print(alpha_chars_only)\n",
        "    counts = Counter(alpha_chars_only)     ### python inbuild fun() from collections package\n",
        "    number_of_odd = sum(1 for letter, cnt in counts.items() if cnt%2)\n",
        "    return number_of_odd <= 1\n",
        "\n"
      ],
      "execution_count": 7,
      "outputs": []
    },
    {
      "cell_type": "code",
      "metadata": {
        "id": "4NYzAZ0vgCmb",
        "colab_type": "code",
        "colab": {
          "base_uri": "https://localhost:8080/",
          "height": 51
        },
        "outputId": "6eb1723b-ef1b-4642-faac-7da74bcc436c"
      },
      "source": [
        "myString = \"Tact Coa1\"\n",
        "print(any_palindrome(myString))"
      ],
      "execution_count": 9,
      "outputs": [
        {
          "output_type": "stream",
          "text": [
            "['t', 'a', 'c', 't', 'c', 'o', 'a']\n",
            "True\n"
          ],
          "name": "stdout"
        }
      ]
    }
  ]
}